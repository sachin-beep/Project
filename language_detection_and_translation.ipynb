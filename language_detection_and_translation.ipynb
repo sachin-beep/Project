{
  "nbformat": 4,
  "nbformat_minor": 0,
  "metadata": {
    "colab": {
      "name": "language detection and translation.ipynb",
      "provenance": []
    },
    "kernelspec": {
      "name": "python3",
      "display_name": "Python 3"
    },
    "language_info": {
      "name": "python"
    }
  },
  "cells": [
    {
      "cell_type": "code",
      "metadata": {
        "colab": {
          "base_uri": "https://localhost:8080/"
        },
        "id": "dEecV4RVZMcG",
        "outputId": "5ee0a2d4-a990-40ae-d2ed-86e7eb8ab22f"
      },
      "source": [
        "pip install langdetect"
      ],
      "execution_count": 1,
      "outputs": [
        {
          "output_type": "stream",
          "text": [
            "Collecting langdetect\n",
            "\u001b[?25l  Downloading https://files.pythonhosted.org/packages/0e/72/a3add0e4eec4eb9e2569554f7c70f4a3c27712f40e3284d483e88094cc0e/langdetect-1.0.9.tar.gz (981kB)\n",
            "\r\u001b[K     |▍                               | 10kB 10.8MB/s eta 0:00:01\r\u001b[K     |▊                               | 20kB 14.5MB/s eta 0:00:01\r\u001b[K     |█                               | 30kB 17.3MB/s eta 0:00:01\r\u001b[K     |█▍                              | 40kB 20.0MB/s eta 0:00:01\r\u001b[K     |█▊                              | 51kB 22.0MB/s eta 0:00:01\r\u001b[K     |██                              | 61kB 24.2MB/s eta 0:00:01\r\u001b[K     |██▍                             | 71kB 24.9MB/s eta 0:00:01\r\u001b[K     |██▊                             | 81kB 24.0MB/s eta 0:00:01\r\u001b[K     |███                             | 92kB 24.5MB/s eta 0:00:01\r\u001b[K     |███▍                            | 102kB 25.7MB/s eta 0:00:01\r\u001b[K     |███▊                            | 112kB 25.7MB/s eta 0:00:01\r\u001b[K     |████                            | 122kB 25.7MB/s eta 0:00:01\r\u001b[K     |████▍                           | 133kB 25.7MB/s eta 0:00:01\r\u001b[K     |████▊                           | 143kB 25.7MB/s eta 0:00:01\r\u001b[K     |█████                           | 153kB 25.7MB/s eta 0:00:01\r\u001b[K     |█████▍                          | 163kB 25.7MB/s eta 0:00:01\r\u001b[K     |█████▊                          | 174kB 25.7MB/s eta 0:00:01\r\u001b[K     |██████                          | 184kB 25.7MB/s eta 0:00:01\r\u001b[K     |██████▍                         | 194kB 25.7MB/s eta 0:00:01\r\u001b[K     |██████▊                         | 204kB 25.7MB/s eta 0:00:01\r\u001b[K     |███████                         | 215kB 25.7MB/s eta 0:00:01\r\u001b[K     |███████▍                        | 225kB 25.7MB/s eta 0:00:01\r\u001b[K     |███████▊                        | 235kB 25.7MB/s eta 0:00:01\r\u001b[K     |████████                        | 245kB 25.7MB/s eta 0:00:01\r\u001b[K     |████████▍                       | 256kB 25.7MB/s eta 0:00:01\r\u001b[K     |████████▊                       | 266kB 25.7MB/s eta 0:00:01\r\u001b[K     |█████████                       | 276kB 25.7MB/s eta 0:00:01\r\u001b[K     |█████████▍                      | 286kB 25.7MB/s eta 0:00:01\r\u001b[K     |█████████▊                      | 296kB 25.7MB/s eta 0:00:01\r\u001b[K     |██████████                      | 307kB 25.7MB/s eta 0:00:01\r\u001b[K     |██████████▍                     | 317kB 25.7MB/s eta 0:00:01\r\u001b[K     |██████████▊                     | 327kB 25.7MB/s eta 0:00:01\r\u001b[K     |███████████                     | 337kB 25.7MB/s eta 0:00:01\r\u001b[K     |███████████▍                    | 348kB 25.7MB/s eta 0:00:01\r\u001b[K     |███████████▊                    | 358kB 25.7MB/s eta 0:00:01\r\u001b[K     |████████████                    | 368kB 25.7MB/s eta 0:00:01\r\u001b[K     |████████████▍                   | 378kB 25.7MB/s eta 0:00:01\r\u001b[K     |████████████▊                   | 389kB 25.7MB/s eta 0:00:01\r\u001b[K     |█████████████                   | 399kB 25.7MB/s eta 0:00:01\r\u001b[K     |█████████████▍                  | 409kB 25.7MB/s eta 0:00:01\r\u001b[K     |█████████████▊                  | 419kB 25.7MB/s eta 0:00:01\r\u001b[K     |██████████████                  | 430kB 25.7MB/s eta 0:00:01\r\u001b[K     |██████████████▍                 | 440kB 25.7MB/s eta 0:00:01\r\u001b[K     |██████████████▊                 | 450kB 25.7MB/s eta 0:00:01\r\u001b[K     |███████████████                 | 460kB 25.7MB/s eta 0:00:01\r\u001b[K     |███████████████▍                | 471kB 25.7MB/s eta 0:00:01\r\u001b[K     |███████████████▊                | 481kB 25.7MB/s eta 0:00:01\r\u001b[K     |████████████████                | 491kB 25.7MB/s eta 0:00:01\r\u001b[K     |████████████████▍               | 501kB 25.7MB/s eta 0:00:01\r\u001b[K     |████████████████▊               | 512kB 25.7MB/s eta 0:00:01\r\u001b[K     |█████████████████               | 522kB 25.7MB/s eta 0:00:01\r\u001b[K     |█████████████████▍              | 532kB 25.7MB/s eta 0:00:01\r\u001b[K     |█████████████████▊              | 542kB 25.7MB/s eta 0:00:01\r\u001b[K     |██████████████████              | 552kB 25.7MB/s eta 0:00:01\r\u001b[K     |██████████████████▍             | 563kB 25.7MB/s eta 0:00:01\r\u001b[K     |██████████████████▊             | 573kB 25.7MB/s eta 0:00:01\r\u001b[K     |███████████████████             | 583kB 25.7MB/s eta 0:00:01\r\u001b[K     |███████████████████▍            | 593kB 25.7MB/s eta 0:00:01\r\u001b[K     |███████████████████▊            | 604kB 25.7MB/s eta 0:00:01\r\u001b[K     |████████████████████            | 614kB 25.7MB/s eta 0:00:01\r\u001b[K     |████████████████████▍           | 624kB 25.7MB/s eta 0:00:01\r\u001b[K     |████████████████████▊           | 634kB 25.7MB/s eta 0:00:01\r\u001b[K     |█████████████████████           | 645kB 25.7MB/s eta 0:00:01\r\u001b[K     |█████████████████████▍          | 655kB 25.7MB/s eta 0:00:01\r\u001b[K     |█████████████████████▊          | 665kB 25.7MB/s eta 0:00:01\r\u001b[K     |██████████████████████          | 675kB 25.7MB/s eta 0:00:01\r\u001b[K     |██████████████████████▍         | 686kB 25.7MB/s eta 0:00:01\r\u001b[K     |██████████████████████▊         | 696kB 25.7MB/s eta 0:00:01\r\u001b[K     |███████████████████████         | 706kB 25.7MB/s eta 0:00:01\r\u001b[K     |███████████████████████▍        | 716kB 25.7MB/s eta 0:00:01\r\u001b[K     |███████████████████████▊        | 727kB 25.7MB/s eta 0:00:01\r\u001b[K     |████████████████████████        | 737kB 25.7MB/s eta 0:00:01\r\u001b[K     |████████████████████████▍       | 747kB 25.7MB/s eta 0:00:01\r\u001b[K     |████████████████████████▊       | 757kB 25.7MB/s eta 0:00:01\r\u001b[K     |█████████████████████████       | 768kB 25.7MB/s eta 0:00:01\r\u001b[K     |█████████████████████████▍      | 778kB 25.7MB/s eta 0:00:01\r\u001b[K     |█████████████████████████▊      | 788kB 25.7MB/s eta 0:00:01\r\u001b[K     |██████████████████████████      | 798kB 25.7MB/s eta 0:00:01\r\u001b[K     |██████████████████████████▍     | 808kB 25.7MB/s eta 0:00:01\r\u001b[K     |██████████████████████████▊     | 819kB 25.7MB/s eta 0:00:01\r\u001b[K     |███████████████████████████     | 829kB 25.7MB/s eta 0:00:01\r\u001b[K     |███████████████████████████▍    | 839kB 25.7MB/s eta 0:00:01\r\u001b[K     |███████████████████████████▊    | 849kB 25.7MB/s eta 0:00:01\r\u001b[K     |████████████████████████████    | 860kB 25.7MB/s eta 0:00:01\r\u001b[K     |████████████████████████████▍   | 870kB 25.7MB/s eta 0:00:01\r\u001b[K     |████████████████████████████▊   | 880kB 25.7MB/s eta 0:00:01\r\u001b[K     |█████████████████████████████   | 890kB 25.7MB/s eta 0:00:01\r\u001b[K     |█████████████████████████████▍  | 901kB 25.7MB/s eta 0:00:01\r\u001b[K     |█████████████████████████████▊  | 911kB 25.7MB/s eta 0:00:01\r\u001b[K     |██████████████████████████████  | 921kB 25.7MB/s eta 0:00:01\r\u001b[K     |██████████████████████████████▍ | 931kB 25.7MB/s eta 0:00:01\r\u001b[K     |██████████████████████████████▊ | 942kB 25.7MB/s eta 0:00:01\r\u001b[K     |███████████████████████████████ | 952kB 25.7MB/s eta 0:00:01\r\u001b[K     |███████████████████████████████▍| 962kB 25.7MB/s eta 0:00:01\r\u001b[K     |███████████████████████████████▊| 972kB 25.7MB/s eta 0:00:01\r\u001b[K     |████████████████████████████████| 983kB 25.7MB/s \n",
            "\u001b[?25hRequirement already satisfied: six in /usr/local/lib/python3.7/dist-packages (from langdetect) (1.15.0)\n",
            "Building wheels for collected packages: langdetect\n",
            "  Building wheel for langdetect (setup.py) ... \u001b[?25l\u001b[?25hdone\n",
            "  Created wheel for langdetect: filename=langdetect-1.0.9-cp37-none-any.whl size=993242 sha256=9f56b2dce653fabebce3bf1ebd8e0cdeb3754e310ba0ab5dba7e661bcd0f1e2c\n",
            "  Stored in directory: /root/.cache/pip/wheels/7e/18/13/038c34057808931c7ddc6c92d3aa015cf1a498df5a70268996\n",
            "Successfully built langdetect\n",
            "Installing collected packages: langdetect\n",
            "Successfully installed langdetect-1.0.9\n"
          ],
          "name": "stdout"
        }
      ]
    },
    {
      "cell_type": "code",
      "metadata": {
        "colab": {
          "base_uri": "https://localhost:8080/"
        },
        "id": "chZJ3QmpZRGE",
        "outputId": "3b945ed0-bf01-4762-fae1-b9330443c499"
      },
      "source": [
        "from langdetect import detect\n",
        "\n",
        "sentence = \"ich und du immer für immer und nie\"\n",
        "\n",
        "print(detect(sentence))\n"
      ],
      "execution_count": 8,
      "outputs": [
        {
          "output_type": "stream",
          "text": [
            "de\n"
          ],
          "name": "stdout"
        }
      ]
    },
    {
      "cell_type": "code",
      "metadata": {
        "colab": {
          "base_uri": "https://localhost:8080/"
        },
        "id": "9DBLXPCmZoEY",
        "outputId": "65c83c90-43cb-4847-87bc-d29ac772c562"
      },
      "source": [
        "from langdetect import detect_langs\n",
        "\n",
        "sentence = \"ich und du immer für immer und nie\"\n",
        "\n",
        "print(detect_langs(sentence))"
      ],
      "execution_count": 9,
      "outputs": [
        {
          "output_type": "stream",
          "text": [
            "[de:0.9999972358595925]\n"
          ],
          "name": "stdout"
        }
      ]
    },
    {
      "cell_type": "code",
      "metadata": {
        "colab": {
          "base_uri": "https://localhost:8080/"
        },
        "id": "8BjROEG8ZzXc",
        "outputId": "ae4c6e8e-7240-4090-c945-7a1ba6fb4980"
      },
      "source": [
        "pip install google_trans_new"
      ],
      "execution_count": 6,
      "outputs": [
        {
          "output_type": "stream",
          "text": [
            "Collecting google_trans_new\n",
            "  Downloading https://files.pythonhosted.org/packages/f9/7b/9f136106dc5824dc98185c97991d3cd9b53e70a197154dd49f7b899128f6/google_trans_new-1.1.9-py3-none-any.whl\n",
            "Installing collected packages: google-trans-new\n",
            "Successfully installed google-trans-new-1.1.9\n"
          ],
          "name": "stdout"
        }
      ]
    },
    {
      "cell_type": "code",
      "metadata": {
        "colab": {
          "base_uri": "https://localhost:8080/"
        },
        "id": "890WDxN8aBhV",
        "outputId": "e2ba3ed3-6c5b-4de3-fb96-7e2665506c44"
      },
      "source": [
        "from google_trans_new import google_translator\n",
        "\n",
        "translator = google_translator()\n",
        "\n",
        "sentence = \"Die neue Show wird morgen ausgestrahlt und ich werde sie sehen\"\n",
        "translate_text = translator.translate(sentence,lang_tgt='en') \n",
        "\n",
        "print(translate_text)"
      ],
      "execution_count": 10,
      "outputs": [
        {
          "output_type": "stream",
          "text": [
            "The new show is broadcast tomorrow and I will see you \n"
          ],
          "name": "stdout"
        }
      ]
    }
  ]
}